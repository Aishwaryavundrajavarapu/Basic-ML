{
  "nbformat": 4,
  "nbformat_minor": 0,
  "metadata": {
    "colab": {
      "name": "Untitled0.ipynb",
      "provenance": [],
      "authorship_tag": "ABX9TyOX+V4MALPxV4MPBULTYEv5",
      "include_colab_link": true
    },
    "kernelspec": {
      "name": "python3",
      "display_name": "Python 3"
    },
    "language_info": {
      "name": "python"
    }
  },
  "cells": [
    {
      "cell_type": "markdown",
      "metadata": {
        "id": "view-in-github",
        "colab_type": "text"
      },
      "source": [
        "<a href=\"https://colab.research.google.com/github/Aishwaryavundrajavarapu/Basic-ML/blob/main/Untitled0.ipynb\" target=\"_parent\"><img src=\"https://colab.research.google.com/assets/colab-badge.svg\" alt=\"Open In Colab\"/></a>"
      ]
    },
    {
      "cell_type": "code",
      "metadata": {
        "id": "bQ5DYMiQcZwu"
      },
      "source": [
        ""
      ],
      "execution_count": null,
      "outputs": []
    },
    {
      "cell_type": "markdown",
      "metadata": {
        "id": "zBN6hZlKe-BK"
      },
      "source": [
        "HEY...\n",
        "\n",
        "My name is AISHWARYA. I'm studing btech first year IT branch in VISHNU INSTITUTE OF TECHNOLOGY.\n",
        "\n",
        "It's my first notebook.\n",
        "\n",
        "here, we solve 3 simple python programs. \n",
        "so lets get started\n",
        "\n",
        "1.Write a python program to add two numbers."
      ]
    },
    {
      "cell_type": "code",
      "metadata": {
        "colab": {
          "base_uri": "https://localhost:8080/"
        },
        "id": "G1vy8GM4g0Nd",
        "outputId": "970fced8-aad3-493f-8895-fb454cf5d8e2"
      },
      "source": [
        "a=2\n",
        "b=3\n",
        "print(a+b)"
      ],
      "execution_count": 1,
      "outputs": [
        {
          "output_type": "stream",
          "text": [
            "5\n"
          ],
          "name": "stdout"
        }
      ]
    },
    {
      "cell_type": "markdown",
      "metadata": {
        "id": "tngr5ggkhYKm"
      },
      "source": [
        "so, from the above example we can learn how to two numbers in python.\n",
        "\n",
        "2.Write a program to add two strings.\n",
        "\n",
        "so lets try to add two strings from the above example. what do you think the output will be? lets see\n"
      ]
    },
    {
      "cell_type": "code",
      "metadata": {
        "colab": {
          "base_uri": "https://localhost:8080/",
          "height": 197
        },
        "id": "_GuY3NzDiW_f",
        "outputId": "99c26b4e-5b27-4994-a3cf-f41dc332b524"
      },
      "source": [
        "a=hello\n",
        "b=world\n",
        "print(a+b)"
      ],
      "execution_count": 3,
      "outputs": [
        {
          "output_type": "error",
          "ename": "NameError",
          "evalue": "ignored",
          "traceback": [
            "\u001b[0;31m---------------------------------------------------------------------------\u001b[0m",
            "\u001b[0;31mNameError\u001b[0m                                 Traceback (most recent call last)",
            "\u001b[0;32m<ipython-input-3-9a0bbba8e75d>\u001b[0m in \u001b[0;36m<module>\u001b[0;34m()\u001b[0m\n\u001b[0;32m----> 1\u001b[0;31m \u001b[0ma\u001b[0m\u001b[0;34m=\u001b[0m\u001b[0mhello\u001b[0m\u001b[0;34m\u001b[0m\u001b[0;34m\u001b[0m\u001b[0m\n\u001b[0m\u001b[1;32m      2\u001b[0m \u001b[0mb\u001b[0m\u001b[0;34m=\u001b[0m\u001b[0mworld\u001b[0m\u001b[0;34m\u001b[0m\u001b[0;34m\u001b[0m\u001b[0m\n\u001b[1;32m      3\u001b[0m \u001b[0mprint\u001b[0m\u001b[0;34m(\u001b[0m\u001b[0ma\u001b[0m\u001b[0;34m+\u001b[0m\u001b[0mb\u001b[0m\u001b[0;34m)\u001b[0m\u001b[0;34m\u001b[0m\u001b[0;34m\u001b[0m\u001b[0m\n",
            "\u001b[0;31mNameError\u001b[0m: name 'hello' is not defined"
          ]
        }
      ]
    },
    {
      "cell_type": "markdown",
      "metadata": {
        "id": "i5YQRipsgW_6"
      },
      "source": [
        ""
      ]
    },
    {
      "cell_type": "markdown",
      "metadata": {
        "id": "l5qzugeZkxki"
      },
      "source": [
        "we got an error although we did in right process. here is the thing in order to add two strings strings must be defined in apostrophe or single quotes or double quotes.Now lets try in correct string format."
      ]
    },
    {
      "cell_type": "code",
      "metadata": {
        "colab": {
          "base_uri": "https://localhost:8080/"
        },
        "id": "z0uiiTpBlhbe",
        "outputId": "556fc8be-add3-4b53-aabf-f3eae30e66f6"
      },
      "source": [
        "a=\"hello\"\n",
        "b=\"world\"\n",
        "print(a+b)"
      ],
      "execution_count": 4,
      "outputs": [
        {
          "output_type": "stream",
          "text": [
            "helloworld\n"
          ],
          "name": "stdout"
        }
      ]
    },
    {
      "cell_type": "markdown",
      "metadata": {
        "id": "mT6GyOf1ls26"
      },
      "source": [
        "Now we got an output \"helloworld\". \n",
        "\n",
        "so we should enter strings in single or double quotes.\n"
      ]
    },
    {
      "cell_type": "markdown",
      "metadata": {
        "id": "VyyDbhpgmjFG"
      },
      "source": [
        "3.Write a program to multiply two numbers.\n",
        "\n",
        "To multiply two numbers '*' operator is used.\n",
        "\n",
        " lets take a is 2 and b is 3 and run the program "
      ]
    },
    {
      "cell_type": "code",
      "metadata": {
        "colab": {
          "base_uri": "https://localhost:8080/"
        },
        "id": "0K0C3V4fnFbJ",
        "outputId": "0e3dbea6-4b55-4ee7-aad1-d72a640df993"
      },
      "source": [
        "a=2\n",
        "b=3\n",
        "print(a*b)\n"
      ],
      "execution_count": 5,
      "outputs": [
        {
          "output_type": "stream",
          "text": [
            "6\n"
          ],
          "name": "stdout"
        }
      ]
    },
    {
      "cell_type": "markdown",
      "metadata": {
        "id": "yAqkY7s7nMWC"
      },
      "source": [
        "By multiplying 2 and 3 we got output 6."
      ]
    }
  ]
}